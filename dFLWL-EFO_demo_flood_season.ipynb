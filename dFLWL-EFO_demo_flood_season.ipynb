{
 "cells": [
  {
   "cell_type": "markdown",
   "id": "d9b91df9-0684-4408-b049-546d0a037599",
   "metadata": {},
   "source": [
    "# dFLWL-EFO framework for real-time FIRO decision support during flood season\n",
    "\n",
    "In this demo, we implement dFLWL-EFO to the major flood season of a specific water year (i.e., WY 2017) in Folsom Lake. "
   ]
  },
  {
   "cell_type": "markdown",
   "id": "e475ee23-12c2-4486-9581-e4782dbdb6e2",
   "metadata": {},
   "source": [
    "Information of Folsom Lake real-world storage regulation curve and constraints (USACE et al., 2019) are listed below:\\\n",
    "Major flood control season: Nov.19 - Feb.28 \\\n",
    "Storage capacity: 967 TAF (thousand acre-feet) (without accounting for emergency flood space)\\\n",
    "Storage at the top of variable flood control pool: 567 TAF (during major flood season)\\\n",
    "Storage at the top of water conservation pool: 367 TAF (during major flood season)\n",
    "\n",
    "Flood control goal: \\\n",
    "Control a 1/100 annual chance event to the normal objective release of 115,000 cfs (=228 TAF/day).\\\n",
    "Control a 1/200 annual chance event to a maximum release of 160,000 cfs (=317 TAF/day)\n",
    "\n",
    "Ramping rate constraints:\\\n",
    "1 - Release between 8,000 cfs and 30,000 cfs will not be increased by more than 10,000 cfs during 2 hour period\\\n",
    "2 - Release between 30,000 cfs and 115,000 cfs will not be increased by more than 30,000 cfs during 2 hour period\\\n",
    "3 - Release between 8,000 cfs and 115,000 cfs will not be decreased by more than 10,000 cfs during 2 hour period\n",
    "\n",
    "Note: 1 cfs = 1.9835 af/day "
   ]
  },
  {
   "cell_type": "markdown",
   "id": "13850a25-12e4-4339-a589-d6ae67076b88",
   "metadata": {},
   "source": [
    "## import necessary modules"
   ]
  },
  {
   "cell_type": "code",
   "execution_count": 1,
   "id": "7aa112c9-2038-42a0-84fa-139da418b6a4",
   "metadata": {
    "tags": []
   },
   "outputs": [],
   "source": [
    "# modules defined in this study\n",
    "from utils import bma_module # functions to implement BMA to generate BMA-PDFs of forecasted inflow within the forecast horizon\n",
    "from utils import efo_model # functions to implement the EFO\n",
    "from utils import dflwl_model # functions to implement the modified dFLWL model to utilize the BMA-PDFs\n",
    "from utils import gdrom_folsom # pre-derived operations rules for Folsom Lake via the GDROM \n",
    "\n",
    "\n",
    "# other modules used in this notebook\n",
    "from os import listdir\n",
    "from os.path import isfile, join\n",
    "import re\n",
    "\n",
    "import pandas as pd\n",
    "import numpy as np\n",
    "import copy\n",
    "\n",
    "from matplotlib import pyplot as plt \n",
    "import matplotlib.dates as mdates\n",
    "from matplotlib.lines import Line2D\n",
    "import seaborn as sns"
   ]
  },
  {
   "cell_type": "markdown",
   "id": "999bf1f1-659e-436e-89b2-f9c70c8f7c2b",
   "metadata": {},
   "source": [
    "## Model setting\n",
    "- based on real-world operational constraints & operators' preferences and judgements"
   ]
  },
  {
   "cell_type": "code",
   "execution_count": 2,
   "id": "baf2db97-297e-4ab9-848f-c2eb97f90cf1",
   "metadata": {},
   "outputs": [],
   "source": [
    "#%%%%%% real-world storage regulation curve (only considering major flood season)\n",
    "# units: TAF (thousand acre-feet)\n",
    "# res_S_max, S_old_conser are associated with reservoir attributes, which can be obtained from the real-world rule curve \n",
    "# W_N: the storage difference btw. the target water conservation level at the end of flood season and the FLWL (i.e., the upper bound of original water conservation pool); \n",
    "\n",
    "res_S_max = 967 # usable storage capacity (i.e., storage corresponding to target water conservation level by the end of flood season)\n",
    "S_old_conser = 367 # storage corresponding to FLWL\n",
    "W_N = res_S_max - S_old_conser"
   ]
  },
  {
   "cell_type": "code",
   "execution_count": 3,
   "id": "1fbc2cf2-e835-4585-953f-452fec0078f0",
   "metadata": {},
   "outputs": [],
   "source": [
    "#%%%%%% real-world operational constraints\n",
    "# units: TAF, 1 cfs = 1.9835 acre-feet/day\n",
    "# R1, current day (i.e., Stage 1) release in volume\n",
    "# R1_min will be determined by GDROM (provided later)\n",
    "\n",
    "I_thresh = 30*1.9835 # inflow threshold to determine if there is ongoing flood at current day\n",
    "R1_max = 115*1.9835 # normal flood control objective release \n",
    "\n",
    "# Ramping rate constraints\n",
    "R1_increase_limit = 80*1.9835 # assuming I0=0 (I0, inflow rate of the previous day), calculated based on ramping rate constraints-1&2\n",
    "R1_recession_limit = 60*1.9835 # assuming I0=115 kcfs, calculated based on ramping rate constraints-3"
   ]
  },
  {
   "cell_type": "code",
   "execution_count": 4,
   "id": "c83e1612-36ce-404a-91bd-d310d17de3ad",
   "metadata": {},
   "outputs": [],
   "source": [
    "#%%%%%% customizable parameters in dFLWL-EFO\n",
    "selected_horizon = 7 # selected forecast horizon\n",
    "W_max = 400 # the upper bound of carryover capacity (FIRO space) during major flood season, in TAF\n",
    "W_F = 400 # the upper bound of risk-tolerance based flood control capacity during major flood season, in TAF\n",
    "\n",
    "########## parameters of the dFLWL model\n",
    "# w: a weight assigned to flood control objective; (1-w), a weight assigned to water conservation\n",
    "# m: an conponent to define the shape of the loss function, m>1 to ensure the convexity\n",
    "w = 0.9\n",
    "m = 3\n",
    "\n",
    "# r_alpha: risk tolerance levels used in dFLWL model under a forecast horizon of 7 days \n",
    "dFLWL_r_alpha = 0.15\n",
    "\n",
    "# R2_max: downstream flood conveyance capacity at Stage 2 under a forecast horizon of 7 days \n",
    "# R2_max was derived from historical release series (unit: TAF)\n",
    "R2_max = 487.4\n",
    "\n",
    "########## parameters of the EFO model\n",
    "# risk-tolerance curve for flood control releases, which is generated based on the X1=5, X2=0.37 (at day 15)\n",
    "df_risk_tolerance = pd.read_csv(r'...\\data\\EFO_risk_tolerance_curve.csv')\n",
    "EFO_risk_tolerance = df_risk_tolerance['risk tolerance'].tolist()\n"
   ]
  },
  {
   "cell_type": "markdown",
   "id": "c041ab7f-1098-4406-821f-071079ba4f59",
   "metadata": {
    "tags": []
   },
   "source": [
    "## Run the dFLWL-EFO for a flood season"
   ]
  },
  {
   "cell_type": "code",
   "execution_count": 15,
   "id": "dad12c54-ee4c-46f1-b265-029631001d32",
   "metadata": {},
   "outputs": [],
   "source": [
    "#%%%%%%%%%%% read necessary files\n",
    "# read the folder that saves daily-updated ensemble streamflow forecasts\n",
    "daily_ens_folder = \"...\\\\data\\\\CNRFC_daily_ensemble\\\\\"\n",
    "\n",
    "# read the calibrated parameters of the BMA model (calibrated using R package 'ensembleBMA' externally)\n",
    "BMA_parameters = pd.read_csv(r'...\\data\\BMA_paras_7day_horizon.csv', usecols=[1, 2])\n",
    "# read the fitted lambda value of the Box-Cox transformation (required in implementing BMA model)\n",
    "df_lambda = pd.read_csv(r'...\\data\\Box_Cox_trans_lambda.csv') \n",
    "fitted_lambda = df_lambda.loc[df_lambda['n_day']==selected_horizon,:]['fitted_lambda'].values\n",
    "\n",
    "# read observed operation data\n",
    "df_obs = pd.read_csv(r'...\\data\\Folsom_observed_operations.csv')\n",
    "df_obs['date'] = pd.to_datetime(df_obs['date'])\n",
    "# convert units: 1 million cubic meter (mcm) = 0.8107144 thousand acre-feet\n",
    "df_obs.loc[:,'I1'] = df_obs['netinflow-mcm'] * 0.8107144\n",
    "df_obs.loc[:,'S0_obs'] = df_obs['storage-mcm'] * 0.8107144\n",
    "df_obs.loc[:,'R1_obs'] = df_obs['outflow-mcm'] * 0.8107144\n",
    "df_obs['S1_obs'] = df_obs['S0_obs'].shift(-1) # S1: daily ending storage"
   ]
  },
  {
   "cell_type": "code",
   "execution_count": 6,
   "id": "60b0d6ea-3851-487d-9e96-988af81aa770",
   "metadata": {},
   "outputs": [],
   "source": [
    "#%%%%%%%%%%% \n",
    "# specify the study period\n",
    "starting_date = '2016-11-18'\n",
    "ending_date = '2017-02-28'\n",
    "chosen_period = pd.date_range(start=starting_date, end=ending_date)\n",
    "# specify the number of ensemble members\n",
    "ensemble_number = 59"
   ]
  },
  {
   "cell_type": "code",
   "execution_count": null,
   "id": "5c3c6665-fc8b-474b-9f2e-ae36d4112a26",
   "metadata": {},
   "outputs": [],
   "source": [
    "#%%%%%%%%%%% \n",
    "# create a dataframe to save results\n",
    "df_result = pd.DataFrame(columns  = ['date', 'W1_opt', 'delta_opt', 'delta_min', 'case_num', 'I1', 'R1_FIRO', 'W1_FIRO', 'S1_FIRO', 'I2_expected'])\n",
    "\n",
    "# model initialization\n",
    "S0 = df_obs.loc[df_obs['date'] == starting_date, 'S0_obs'].values[0] # initial storage of the study period (observed value)\n",
    "W0 = S0 - S_old_conser # initial carryover storage of the study period\n",
    "R1_0 = df_obs.loc[df_obs['date'] == starting_date, 'R1_obs'].values[0]\n",
    "\n",
    "# range of MVs of carryover storage (water conservation benefit)\n",
    "f1_W1_0 = dflwl_model.f_L1_W1(0,W_N,w,m) # MV of W1 when W1=0\n",
    "f1_W1_max = dflwl_model.f_L1_W1(W_max,W_N,w,m) # MV of W1 when W1=W_max\n",
    "print(\"range of MVs of carryover storage:\")\n",
    "print([f1_W1_0, f1_W1_max])\n",
    "\n",
    "#%%%%%%%%%%%%%%%%%%%%%%%%%%%%%%%%\n",
    "# dFLWL-EFO implemention: rolling-window simulation \n",
    "for date in chosen_period:\n",
    "    current_date = date.strftime('%Y-%m-%d')\n",
    "    print(\"****\"+current_date+\"****\")\n",
    "    \n",
    "    #%%%%%%%%%% Beginning of daily time step %%%%%%%%%%\n",
    "    # assimilate daily-updated ensemble forecasts (unit: kcfs)\n",
    "    date_file_name = date.strftime('%Y%m%d')\n",
    "    df_ensemble = pd.read_csv(daily_ens_folder+date_file_name+'.csv')\n",
    "    df_ensemble = df_ensemble.iloc[0:15,1:]*1.9835 # unit coversion - kcfs to TAF\n",
    "    ensemble_nday_lst = df_ensemble.iloc[1:(selected_horizon+1),:].sum().values.tolist() # forecasted cumulative inflow within selected horizon \n",
    "    \n",
    "    # obtain forecasted inflow at current day\n",
    "    I1_expected = np.mean(df_ensemble.iloc[0,1:])\n",
    "    \n",
    "    # compute R1_min using GDROM\n",
    "    R1_min = gdrom_folsom.GDROM_M1(I1_expected, S0)\n",
    "    \n",
    "    #%%%%%%%%%% determine if current inflow (I_expected) >= the flood threshold (I_thresh) %%%%%%%%%% \n",
    "    # if yes, apply EFO for flood control releases\n",
    "    # if not, apply dFLWL for optimal hedging rules\n",
    "    W1_opt = -9999\n",
    "    \n",
    "    # %%%%%%%%%% apply dFLWL %%%%%%%%%% \n",
    "    if I1_expected < I_thresh: # apply dFLWL\n",
    "        print(\"### implement dFLWL for optimal hedging rules ###\")\n",
    "        # generate the BMA-PDF of I2 (in cumulative volume) during the selected forecast horizon\n",
    "        final_pdf, I2_expected, delta_min, pdf_ra, I2_995, pdf_995 = bma_module.get_BMA_PDFs(current_date, ensemble_nday_lst, BMA_parameters, fitted_lambda, dFLWL_r_alpha)\n",
    "\n",
    "        # use polynomial regression to approximate a section of the BMA-PDF of I2 \n",
    "        # in this way, dFLWL can find a numerical solutions where MVs of safety margin and carryover storage are equal\n",
    "        pdf_ra, pdf_995, reg_coeff = bma_module.get_BMA_PDFs_coeff(final_pdf, R2_max, dFLWL_r_alpha)\n",
    "        f2_delta_min = w * pdf_ra\n",
    "        f2_delta_995 = w * pdf_995\n",
    "\n",
    "        # solve optimal carryover storage and saftey margin using KKT conditions\n",
    "        W1_opt, delta_opt, case_num = dflwl_model.daily_optimal_KKT(I2_expected, delta_min, f2_delta_min, I2_995, f2_delta_995, \n",
    "                                                        reg_coeff, R2_max, W_max, W_N, w, m, f1_W1_0, f1_W1_max)\n",
    "        print('optimal carryover storage: '+str(W1_opt))\n",
    "        \n",
    "        # determine release decision R1 based on water balance\n",
    "        R1 = W0 + I1_expected - W1_opt\n",
    "\n",
    "    # %%%%%%%%%% apply EFO %%%%%%%%%% \n",
    "    if W1_opt == 0 or I1_expected >= I_thresh:\n",
    "        print(\"### implement EFO for flood control release ###\")\n",
    "        R1 = efo_model.EFO_flood_release(df_ensemble, S0, (W_F+S_old_conser), selected_horizon, EFO_risk_tolerance, ensemble_number, R1_min, R1_max, I1_expected)\n",
    "        print('R1: '+str(R1))\n",
    "\n",
    "  \n",
    "    # %%%%%%%%%% check other release and storage requirements %%%%%%%%%% \n",
    "    # apply additional rules to adjust the release decisions from dFLWL to reduce release fluctuation\n",
    "    if W1_opt > 0 and R1 >= I_thresh and I1_expected < I_thresh:\n",
    "        R1_temp = efo_model.EFO_flood_release(df_ensemble, S0, (W_F+S_old_conser), selected_horizon, EFO_risk_tolerance, ensemble_number, R1_min, R1_max, I1_expected)\n",
    "        if R1_temp < R1 and R1_temp > I_thresh:\n",
    "            R1 = R1_temp\n",
    "        if R1_temp < I_thresh:\n",
    "            R1 = I_thresh\n",
    "\n",
    "    # check the lower and upper bound of R1\n",
    "    if R1 < R1_min:\n",
    "        R1 = R1_min\n",
    "    if R1 > R1_max:\n",
    "        if W0 + I1_expected - R1_max <= W_N:\n",
    "            R1 = R1_max\n",
    "        else:\n",
    "            R1 = W_N - W0 - I1_expected\n",
    "\n",
    "    # check ramping rate constraints\n",
    "    if R1_0 == R1_max: # decreasing rate limit\n",
    "        R1 = R1_recession_limit\n",
    "    if R1_0 < 30*1.9835 and R1 > R1_increase_limit: #increasing rate limit\n",
    "        R1 = R1_increase_limit\n",
    "\n",
    "    # check the lower and upper bound of carryover storage W1\n",
    "    W1_true_temp = W0 + I1_expected - R1\n",
    "    if W1_true_temp <= 0 and W0 >= 0: # to ensure the carryover storage W1 >= 0\n",
    "        R1 = W0 + I1_expected - 0\n",
    "    if W1_true_temp <= 0 and W0 < 0:\n",
    "        R1 = W0 + I1_expected\n",
    "    if W1_true_temp > W_max: # to ensure the carryover storage W <= W_max\n",
    "        R1 = W0 + I1_expected - W_max\n",
    "    \n",
    "    #%%%%%%%%%% End of daily time step %%%%%%%%%%\n",
    "    # note: actual (i.e., observed) inflow (I1) is known at the end of a decision time step\n",
    "    # I1 is used to determine daily ending storage at Stage 1 (current step) associated with R1\n",
    "    I1 = df_obs.loc[df_obs['date']==date,'I1'].values[0]\n",
    "    W1_true = W0 + I1 - R1 \n",
    "    S1_true = W1_true + S_old_conser\n",
    "\n",
    "    # save results\n",
    "    df_result.loc[len(df_result)] = [current_date, W1_opt, delta_opt, delta_min, case_num, I1, R1, W1_true, S1_true, I2_expected]\n",
    "    print(\"actual inflow, release decision, ending carryover storage:\")\n",
    "    print([I1, R1, W1_true])\n",
    "    \n",
    "    # update I1_0, R1_0, S0, W0, which might be used to adjust next-step release decision\n",
    "    I1_0 = I1 \n",
    "    R1_0 = R1 \n",
    "    W0 = W1_true\n",
    "    S0 = S1_true\n",
    "\n",
    "\n",
    "    "
   ]
  },
  {
   "cell_type": "markdown",
   "id": "643cfdd2-fd59-4e5c-b9f5-c6a6c0a4683d",
   "metadata": {},
   "source": [
    "## Plot results"
   ]
  },
  {
   "cell_type": "code",
   "execution_count": 17,
   "id": "95dc66ee-a450-40f4-9842-fe430af7c5e8",
   "metadata": {},
   "outputs": [],
   "source": [
    "df_result['date'] = pd.to_datetime(df_result['date'])\n",
    "df_result = df_result.merge(df_obs[['date', 'R1_obs', 'S1_obs']], left_on='date', right_on='date')"
   ]
  },
  {
   "cell_type": "code",
   "execution_count": 19,
   "id": "3b347abd-b90b-46bf-8b5c-dc0f77ae74b5",
   "metadata": {},
   "outputs": [
    {
     "data": {
      "image/png": "[encoded data removed]",
      "text/plain": [
       "<Figure size 432x288 with 2 Axes>"
      ]
     },
     "metadata": {
      "needs_background": "light"
     },
     "output_type": "display_data"
    }
   ],
   "source": [
    "fig, ax = plt.subplots(2, 1,figsize=(6, 4), sharex=True)\n",
    "ax[0].plot(df_result['date'], df_result['S1_FIRO'], color='b', label = 'dFLWL-EFO')\n",
    "ax[0].plot(df_result['date'], df_result['S1_obs'], color='g', linestyle='-.', label = 'observed')\n",
    "ax[0].set_ylabel('storage (TAF)',fontweight=\"bold\", fontsize=10)\n",
    "ax[0].set_ylim([200,900])\n",
    "ax[0].legend(loc='upper left', bbox_to_anchor=(0.22, 1.25), ncol=3, frameon=False)\n",
    "# storage thresholds\n",
    "ax[0].axhline(y=767, linestyle='--', color='darkorange', linewidth=1.3)\n",
    "fig.text(0.15, 0.79, \"${W=W_{max}}$\", color='darkorange')\n",
    "ax[0].axhline(y=367, linestyle='--', color='red', linewidth=1.3)\n",
    "fig.text(0.13, 0.575, \"${original\\ FLWL}$\", color='red')\n",
    "\n",
    "ax[1].plot(df_result['date'], df_result['R1_FIRO'], color='b', label = 'dFLWL-EFO')\n",
    "ax[1].plot(df_result['date'], df_result['R1_obs'], color='g', linestyle = '-.', label = 'observed')\n",
    "ax[1].fill_between(df_result[\"date\"], df_result[\"I1\"], 0, color='lightskyblue', alpha=0.5)\n",
    "ax[1].set_ylabel('release (TAF)', fontweight=\"bold\",fontsize=10)\n",
    "\n",
    "#%%%%%%%%%%%%%%%%%%%%%%%%%%%%\n",
    "legend_elements = [Line2D([0], [0], marker='s', color='none', label='observed 1d-inflow',\n",
    "                          markerfacecolor='lightskyblue', markeredgecolor='none', markersize=10)]\n",
    "ax[1].legend(handles=legend_elements, loc='upper left', bbox_to_anchor=(0, 1), ncol=1, fontsize=10, frameon=False)     \n",
    "\n",
    "#ax[1].legend(loc='upper left', bbox_to_anchor=(0, 1), ncol=1)\n",
    "ax[1].set_ylim([-5,240])\n",
    "ax[1].xaxis.set_major_locator(mdates.MonthLocator())\n",
    "ax[1].xaxis.set_major_formatter(mdates.DateFormatter('%Y-%m-%d'))\n",
    "\n",
    "plt.tight_layout()\n"
   ]
  },
  {
   "cell_type": "code",
   "execution_count": null,
   "id": "9640ca92-82bd-4ec6-81df-90cc5517aa22",
   "metadata": {},
   "outputs": [],
   "source": []
  },
  {
   "cell_type": "code",
   "execution_count": null,
   "id": "2ab276cc-ca4b-49cd-9a47-46424dbec8c0",
   "metadata": {},
   "outputs": [],
   "source": []
  }
 ],
 "metadata": {
  "kernelspec": {
   "display_name": "Python 3",
   "language": "python",
   "name": "python3"
  },
  "language_info": {
   "codemirror_mode": {
    "name": "ipython",
    "version": 3
   },
   "file_extension": ".py",
   "mimetype": "text/x-python",
   "name": "python",
   "nbconvert_exporter": "python",
   "pygments_lexer": "ipython3",
   "version": "3.6.8"
  }
 },
 "nbformat": 4,
 "nbformat_minor": 5
}
